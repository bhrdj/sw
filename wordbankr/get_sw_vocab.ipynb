{
 "cells": [
  {
   "cell_type": "markdown",
   "id": "42cdca0e-e05e-4fbc-af42-9836efe79c30",
   "metadata": {},
   "source": [
    "# get sw-en/en-sw word matches"
   ]
  },
  {
   "cell_type": "markdown",
   "id": "9a41e8fd-f338-468c-b998-1773d755049b",
   "metadata": {
    "tags": []
   },
   "source": [
    "### setup"
   ]
  },
  {
   "cell_type": "markdown",
   "id": "bec39496-0fca-4bec-9925-899dfef7dd5a",
   "metadata": {
    "jp-MarkdownHeadingCollapsed": true,
    "tags": []
   },
   "source": [
    "#### installation"
   ]
  },
  {
   "cell_type": "markdown",
   "id": "28aa78c2-3bcc-4be7-8779-565ef7d8eacb",
   "metadata": {},
   "source": [
    "- installing fresh conda environment with R \n",
    "    - https://acs-docs.readthedocs.io/triton/2-sw/R_Through_Anaconda.html\n",
    "    - (everything with conda-forge)\n",
    "    - created new environment, then installed jupyter-lab into it\n",
    "- installing wordbankr\n",
    "    - install.packages(\"wordbankr\") # failed\n",
    "    - install.packages(\"devtools\")\n",
    "    - sudo apt-get install libmysql++-dev\n",
    "    - devtools::install_github(\"langcog/wordbankr\")"
   ]
  },
  {
   "cell_type": "code",
   "execution_count": 8,
   "id": "ad35e7e6-51a7-419b-95f3-de0ecaa54699",
   "metadata": {},
   "outputs": [
    {
     "name": "stderr",
     "output_type": "stream",
     "text": [
      "Downloading GitHub repo langcog/wordbankr@HEAD\n",
      "\n"
     ]
    },
    {
     "name": "stdout",
     "output_type": "stream",
     "text": [
      "RMySQL (NA -> 0.10.25) [CRAN]\n"
     ]
    },
    {
     "name": "stderr",
     "output_type": "stream",
     "text": [
      "Installing 1 packages: RMySQL\n",
      "\n",
      "Updating HTML index of packages in '.Library'\n",
      "\n",
      "Making 'packages.html' ...\n",
      " done\n",
      "\n"
     ]
    },
    {
     "name": "stdout",
     "output_type": "stream",
     "text": [
      "\u001b[36m──\u001b[39m \u001b[36mR CMD build\u001b[39m \u001b[36m────────────────────────────────────────────────────────────────────────────────────────────────────────────────────────────────────────────────────────────────\u001b[39m\n",
      "\u001b[32m✔\u001b[39m  \u001b[90mchecking for file ‘/tmp/Rtmp7YZME9/remotes4b5e16f2ef54/langcog-wordbankr-78e8e4c/DESCRIPTION’\u001b[39m\u001b[36m\u001b[39m\n",
      "\u001b[90m─\u001b[39m\u001b[90m  \u001b[39m\u001b[90mpreparing ‘wordbankr’:\u001b[39m\u001b[36m\u001b[39m\n",
      "\u001b[32m✔\u001b[39m  \u001b[90mchecking DESCRIPTION meta-information\u001b[39m\u001b[36m\u001b[39m\n",
      "\u001b[90m─\u001b[39m\u001b[90m  \u001b[39m\u001b[90mchecking for LF line-endings in source and make files and shell scripts\u001b[39m\u001b[36m\u001b[39m\n",
      "\u001b[90m─\u001b[39m\u001b[90m  \u001b[39m\u001b[90mchecking for empty or unneeded directories\u001b[39m\u001b[36m\u001b[39m\n",
      "\u001b[90m─\u001b[39m\u001b[90m  \u001b[39m\u001b[90mbuilding ‘wordbankr_1.0.0.tar.gz’\u001b[39m\u001b[36m\u001b[39m\n",
      "   \n",
      "\r"
     ]
    }
   ],
   "source": [
    "devtools::install_github(\"langcog/wordbankr\")"
   ]
  },
  {
   "cell_type": "code",
   "execution_count": 20,
   "id": "7539312b-1bb9-4f43-a034-2d02916d6fa0",
   "metadata": {},
   "outputs": [
    {
     "data": {
      "text/html": [
       "<style>\n",
       ".dl-inline {width: auto; margin:0; padding: 0}\n",
       ".dl-inline>dt, .dl-inline>dd {float: none; width: auto; display: inline-block}\n",
       ".dl-inline>dt::after {content: \":\\0020\"; padding-right: .5ex}\n",
       ".dl-inline>dt:not(:first-of-type) {padding-left: .5ex}\n",
       "</style><dl class=dl-inline><dt>Package</dt><dd>'wordbankr'</dd><dt>LibPath</dt><dd>'/home/bhrdwj/anaconda3/envs/r4_env/lib/R/library'</dd><dt>Version</dt><dd>'1.0.0'</dd><dt>Priority</dt><dd>NA</dd><dt>Depends</dt><dd>'R (&gt;= 4.0)'</dd><dt>Imports</dt><dd>'assertthat (&gt;= 0.2.1), DBI (&gt;= 1.1.3), dbplyr (&gt;= 2.2.1),\\ndplyr (&gt;= 1.0.9), glue (&gt;= 1.6.2), jsonlite (&gt;= 1.8.0),\\nlifecycle (&gt;= 1.0.1), purrr (&gt;= 0.3.4), quantregGrowth (&gt;=\\n1.4), rlang (&gt;= 1.0.4), RMySQL (&gt;= 0.10.23), robustbase (&gt;=\\n0.95), stringr (&gt;= 1.4.0), tidyr (&gt;= 1.2.0)'</dd><dt>LinkingTo</dt><dd>NA</dd><dt>Suggests</dt><dd>'ggplot2, knitr, rmarkdown'</dd><dt>Enhances</dt><dd>NA</dd><dt>License</dt><dd>'GPL-3'</dd><dt>License_is_FOSS</dt><dd>NA</dd><dt>License_restricts_use</dt><dd>NA</dd><dt>OS_type</dt><dd>NA</dd><dt>MD5sum</dt><dd>NA</dd><dt>NeedsCompilation</dt><dd>'no'</dd><dt>Built</dt><dd>'4.2.3'</dd></dl>\n"
      ],
      "text/latex": [
       "\\begin{description*}\n",
       "\\item[Package] 'wordbankr'\n",
       "\\item[LibPath] '/home/bhrdwj/anaconda3/envs/r4\\_env/lib/R/library'\n",
       "\\item[Version] '1.0.0'\n",
       "\\item[Priority] NA\n",
       "\\item[Depends] 'R (>= 4.0)'\n",
       "\\item[Imports] 'assertthat (>= 0.2.1), DBI (>= 1.1.3), dbplyr (>= 2.2.1),\\textbackslash{}ndplyr (>= 1.0.9), glue (>= 1.6.2), jsonlite (>= 1.8.0),\\textbackslash{}nlifecycle (>= 1.0.1), purrr (>= 0.3.4), quantregGrowth (>=\\textbackslash{}n1.4), rlang (>= 1.0.4), RMySQL (>= 0.10.23), robustbase (>=\\textbackslash{}n0.95), stringr (>= 1.4.0), tidyr (>= 1.2.0)'\n",
       "\\item[LinkingTo] NA\n",
       "\\item[Suggests] 'ggplot2, knitr, rmarkdown'\n",
       "\\item[Enhances] NA\n",
       "\\item[License] 'GPL-3'\n",
       "\\item[License\\textbackslash{}\\_is\\textbackslash{}\\_FOSS] NA\n",
       "\\item[License\\textbackslash{}\\_restricts\\textbackslash{}\\_use] NA\n",
       "\\item[OS\\textbackslash{}\\_type] NA\n",
       "\\item[MD5sum] NA\n",
       "\\item[NeedsCompilation] 'no'\n",
       "\\item[Built] '4.2.3'\n",
       "\\end{description*}\n"
      ],
      "text/markdown": [
       "Package\n",
       ":   'wordbankr'LibPath\n",
       ":   '/home/bhrdwj/anaconda3/envs/r4_env/lib/R/library'Version\n",
       ":   '1.0.0'Priority\n",
       ":   NADepends\n",
       ":   'R (&gt;= 4.0)'Imports\n",
       ":   'assertthat (&gt;= 0.2.1), DBI (&gt;= 1.1.3), dbplyr (&gt;= 2.2.1),\\ndplyr (&gt;= 1.0.9), glue (&gt;= 1.6.2), jsonlite (&gt;= 1.8.0),\\nlifecycle (&gt;= 1.0.1), purrr (&gt;= 0.3.4), quantregGrowth (&gt;=\\n1.4), rlang (&gt;= 1.0.4), RMySQL (&gt;= 0.10.23), robustbase (&gt;=\\n0.95), stringr (&gt;= 1.4.0), tidyr (&gt;= 1.2.0)'LinkingTo\n",
       ":   NASuggests\n",
       ":   'ggplot2, knitr, rmarkdown'Enhances\n",
       ":   NALicense\n",
       ":   'GPL-3'License_is_FOSS\n",
       ":   NALicense_restricts_use\n",
       ":   NAOS_type\n",
       ":   NAMD5sum\n",
       ":   NANeedsCompilation\n",
       ":   'no'Built\n",
       ":   '4.2.3'\n",
       "\n"
      ],
      "text/plain": [
       "                                                                                                                                                                                                                                                                                   Package \n",
       "                                                                                                                                                                                                                                                                               \"wordbankr\" \n",
       "                                                                                                                                                                                                                                                                                   LibPath \n",
       "                                                                                                                                                                                                                                        \"/home/bhrdwj/anaconda3/envs/r4_env/lib/R/library\" \n",
       "                                                                                                                                                                                                                                                                                   Version \n",
       "                                                                                                                                                                                                                                                                                   \"1.0.0\" \n",
       "                                                                                                                                                                                                                                                                                  Priority \n",
       "                                                                                                                                                                                                                                                                                        NA \n",
       "                                                                                                                                                                                                                                                                                   Depends \n",
       "                                                                                                                                                                                                                                                                              \"R (>= 4.0)\" \n",
       "                                                                                                                                                                                                                                                                                   Imports \n",
       "\"assertthat (>= 0.2.1), DBI (>= 1.1.3), dbplyr (>= 2.2.1),\\ndplyr (>= 1.0.9), glue (>= 1.6.2), jsonlite (>= 1.8.0),\\nlifecycle (>= 1.0.1), purrr (>= 0.3.4), quantregGrowth (>=\\n1.4), rlang (>= 1.0.4), RMySQL (>= 0.10.23), robustbase (>=\\n0.95), stringr (>= 1.4.0), tidyr (>= 1.2.0)\" \n",
       "                                                                                                                                                                                                                                                                                 LinkingTo \n",
       "                                                                                                                                                                                                                                                                                        NA \n",
       "                                                                                                                                                                                                                                                                                  Suggests \n",
       "                                                                                                                                                                                                                                                               \"ggplot2, knitr, rmarkdown\" \n",
       "                                                                                                                                                                                                                                                                                  Enhances \n",
       "                                                                                                                                                                                                                                                                                        NA \n",
       "                                                                                                                                                                                                                                                                                   License \n",
       "                                                                                                                                                                                                                                                                                   \"GPL-3\" \n",
       "                                                                                                                                                                                                                                                                           License_is_FOSS \n",
       "                                                                                                                                                                                                                                                                                        NA \n",
       "                                                                                                                                                                                                                                                                     License_restricts_use \n",
       "                                                                                                                                                                                                                                                                                        NA \n",
       "                                                                                                                                                                                                                                                                                   OS_type \n",
       "                                                                                                                                                                                                                                                                                        NA \n",
       "                                                                                                                                                                                                                                                                                    MD5sum \n",
       "                                                                                                                                                                                                                                                                                        NA \n",
       "                                                                                                                                                                                                                                                                          NeedsCompilation \n",
       "                                                                                                                                                                                                                                                                                      \"no\" \n",
       "                                                                                                                                                                                                                                                                                     Built \n",
       "                                                                                                                                                                                                                                                                                   \"4.2.3\" "
      ]
     },
     "metadata": {},
     "output_type": "display_data"
    }
   ],
   "source": [
    "installed.packages()['wordbankr',]"
   ]
  },
  {
   "cell_type": "markdown",
   "id": "a53ec93f-d62d-4bc6-aa77-250a62ca2567",
   "metadata": {},
   "source": [
    "#### load packages"
   ]
  },
  {
   "cell_type": "code",
   "execution_count": 32,
   "id": "89fcae56-4133-42b7-a023-2c8f14a1af69",
   "metadata": {},
   "outputs": [],
   "source": [
    "library('wordbankr')"
   ]
  },
  {
   "cell_type": "code",
   "execution_count": 33,
   "id": "0164800e-d702-45d4-b0e0-e74fd4508fb9",
   "metadata": {},
   "outputs": [
    {
     "data": {
      "text/html": [
       "<style>\n",
       ".list-inline {list-style: none; margin:0; padding: 0}\n",
       ".list-inline>li {display: inline-block}\n",
       ".list-inline>li:not(:last-child)::after {content: \"\\00b7\"; padding: 0 .5ex}\n",
       "</style>\n",
       "<ol class=list-inline><li>'connect_to_wordbank'</li><li>'fit_aoa'</li><li>'fit_vocab_quantiles'</li><li>'get_administration_data'</li><li>'get_crossling_data'</li><li>'get_crossling_items'</li><li>'get_datasets'</li><li>'get_instrument_data'</li><li>'get_instruments'</li><li>'get_item_data'</li><li>'get_wordbank_args'</li><li>'summarise_items'</li></ol>\n"
      ],
      "text/latex": [
       "\\begin{enumerate*}\n",
       "\\item 'connect\\_to\\_wordbank'\n",
       "\\item 'fit\\_aoa'\n",
       "\\item 'fit\\_vocab\\_quantiles'\n",
       "\\item 'get\\_administration\\_data'\n",
       "\\item 'get\\_crossling\\_data'\n",
       "\\item 'get\\_crossling\\_items'\n",
       "\\item 'get\\_datasets'\n",
       "\\item 'get\\_instrument\\_data'\n",
       "\\item 'get\\_instruments'\n",
       "\\item 'get\\_item\\_data'\n",
       "\\item 'get\\_wordbank\\_args'\n",
       "\\item 'summarise\\_items'\n",
       "\\end{enumerate*}\n"
      ],
      "text/markdown": [
       "1. 'connect_to_wordbank'\n",
       "2. 'fit_aoa'\n",
       "3. 'fit_vocab_quantiles'\n",
       "4. 'get_administration_data'\n",
       "5. 'get_crossling_data'\n",
       "6. 'get_crossling_items'\n",
       "7. 'get_datasets'\n",
       "8. 'get_instrument_data'\n",
       "9. 'get_instruments'\n",
       "10. 'get_item_data'\n",
       "11. 'get_wordbank_args'\n",
       "12. 'summarise_items'\n",
       "\n",
       "\n"
      ],
      "text/plain": [
       " [1] \"connect_to_wordbank\"     \"fit_aoa\"                \n",
       " [3] \"fit_vocab_quantiles\"     \"get_administration_data\"\n",
       " [5] \"get_crossling_data\"      \"get_crossling_items\"    \n",
       " [7] \"get_datasets\"            \"get_instrument_data\"    \n",
       " [9] \"get_instruments\"         \"get_item_data\"          \n",
       "[11] \"get_wordbank_args\"       \"summarise_items\"        "
      ]
     },
     "metadata": {},
     "output_type": "display_data"
    }
   ],
   "source": [
    "ls('package:wordbankr')"
   ]
  },
  {
   "cell_type": "markdown",
   "id": "c4c21265-cec3-4163-a20f-209ac6832c4d",
   "metadata": {},
   "source": [
    "### EDA"
   ]
  },
  {
   "cell_type": "code",
   "execution_count": 34,
   "id": "ef18ad7f-e7d6-4344-9b2c-98b0307a3407",
   "metadata": {},
   "outputs": [],
   "source": [
    "instrument <- get_instruments()"
   ]
  },
  {
   "cell_type": "code",
   "execution_count": 58,
   "id": "94174b79-b891-4917-a8dd-ddb74293b2bf",
   "metadata": {},
   "outputs": [
    {
     "data": {
      "text/html": [
       "<table class=\"dataframe\">\n",
       "<caption>A tibble: 2 × 8</caption>\n",
       "<thead>\n",
       "\t<tr><th scope=col>instrument_id</th><th scope=col>language</th><th scope=col>form</th><th scope=col>form_type</th><th scope=col>age_min</th><th scope=col>age_max</th><th scope=col>has_grammar</th><th scope=col>unilemma_coverage</th></tr>\n",
       "\t<tr><th scope=col>&lt;int&gt;</th><th scope=col>&lt;chr&gt;</th><th scope=col>&lt;chr&gt;</th><th scope=col>&lt;chr&gt;</th><th scope=col>&lt;int&gt;</th><th scope=col>&lt;int&gt;</th><th scope=col>&lt;int&gt;</th><th scope=col>&lt;dbl&gt;</th></tr>\n",
       "</thead>\n",
       "<tbody>\n",
       "\t<tr><td>40</td><td>Kiswahili</td><td>WG</td><td>WG</td><td> 8</td><td>15</td><td>0</td><td>1</td></tr>\n",
       "\t<tr><td>41</td><td>Kiswahili</td><td>WS</td><td>WS</td><td>16</td><td>30</td><td>1</td><td>1</td></tr>\n",
       "</tbody>\n",
       "</table>\n"
      ],
      "text/latex": [
       "A tibble: 2 × 8\n",
       "\\begin{tabular}{llllllll}\n",
       " instrument\\_id & language & form & form\\_type & age\\_min & age\\_max & has\\_grammar & unilemma\\_coverage\\\\\n",
       " <int> & <chr> & <chr> & <chr> & <int> & <int> & <int> & <dbl>\\\\\n",
       "\\hline\n",
       "\t 40 & Kiswahili & WG & WG &  8 & 15 & 0 & 1\\\\\n",
       "\t 41 & Kiswahili & WS & WS & 16 & 30 & 1 & 1\\\\\n",
       "\\end{tabular}\n"
      ],
      "text/markdown": [
       "\n",
       "A tibble: 2 × 8\n",
       "\n",
       "| instrument_id &lt;int&gt; | language &lt;chr&gt; | form &lt;chr&gt; | form_type &lt;chr&gt; | age_min &lt;int&gt; | age_max &lt;int&gt; | has_grammar &lt;int&gt; | unilemma_coverage &lt;dbl&gt; |\n",
       "|---|---|---|---|---|---|---|---|\n",
       "| 40 | Kiswahili | WG | WG |  8 | 15 | 0 | 1 |\n",
       "| 41 | Kiswahili | WS | WS | 16 | 30 | 1 | 1 |\n",
       "\n"
      ],
      "text/plain": [
       "  instrument_id language  form form_type age_min age_max has_grammar\n",
       "1 40            Kiswahili WG   WG         8      15      0          \n",
       "2 41            Kiswahili WS   WS        16      30      1          \n",
       "  unilemma_coverage\n",
       "1 1                \n",
       "2 1                "
      ]
     },
     "metadata": {},
     "output_type": "display_data"
    }
   ],
   "source": [
    "dplyr::filter(instrument, grepl(\"swahili\",language))"
   ]
  },
  {
   "cell_type": "code",
   "execution_count": 61,
   "id": "0fcadad9-e4b0-4c59-a58e-b84726a221a4",
   "metadata": {},
   "outputs": [],
   "source": [
    "items <- get_item_data(\"Kiswahili\", \"WS\")\n",
    "admin <- get_administration_data(\"Kiswahili\", \"WS\")"
   ]
  },
  {
   "cell_type": "code",
   "execution_count": 67,
   "id": "0339f9e8-3f0d-4aa7-a650-d26e19023e9d",
   "metadata": {},
   "outputs": [],
   "source": [
    "words <- dplyr::filter(items, item_kind=='word')\n",
    "write.csv(words, \"words.csv\")"
   ]
  },
  {
   "cell_type": "code",
   "execution_count": null,
   "id": "77206d53-b4c8-4167-aef9-caf330fe6d97",
   "metadata": {},
   "outputs": [],
   "source": []
  }
 ],
 "metadata": {
  "kernelspec": {
   "display_name": "R",
   "language": "R",
   "name": "ir"
  },
  "language_info": {
   "codemirror_mode": "r",
   "file_extension": ".r",
   "mimetype": "text/x-r-source",
   "name": "R",
   "pygments_lexer": "r",
   "version": "4.2.3"
  }
 },
 "nbformat": 4,
 "nbformat_minor": 5
}
